{
 "cells": [
  {
   "cell_type": "code",
   "execution_count": 17,
   "metadata": {},
   "outputs": [],
   "source": [
    "import pandas as pd\n",
    "import numpy as np\n",
    "import seaborn as sns\n",
    "from sklearn.model_selection import GridSearchCV\n",
    "from sklearn.linear_model import Ridge\n",
    "from sklearn.linear_model import Lasso\n",
    "from sklearn.linear_model import ElasticNet\n",
    "from sklearn.metrics import mean_squared_error\n",
    "from sklearn.metrics import mean_absolute_error\n",
    "import math\n",
    "%matplotlib inline"
   ]
  },
  {
   "cell_type": "code",
   "execution_count": 2,
   "metadata": {},
   "outputs": [],
   "source": [
    "# Import training and testing dateframes\n",
    "train = pd.read_csv('train_nba.csv')\n",
    "test = pd.read_csv('test_nba.csv')"
   ]
  },
  {
   "cell_type": "code",
   "execution_count": 10,
   "metadata": {},
   "outputs": [],
   "source": [
    "# Because training and test sets were randomly chosen before just seperate independent \n",
    "# and dependent variables for later use\n",
    "X_train = train.drop('PTS', axis = 1)\n",
    "y_train = train['PTS']\n",
    "X_test = test.drop('PTS', axis = 1)\n",
    "y_test = test['PTS']*57"
   ]
  },
  {
   "cell_type": "code",
   "execution_count": 4,
   "metadata": {},
   "outputs": [
    {
     "name": "stdout",
     "output_type": "stream",
     "text": [
      "{'alpha': 1}\n",
      "-0.005633807518033507\n"
     ]
    }
   ],
   "source": [
    "# Conduct cross validation using a ridge model we want to echo the method in R so the \n",
    "# cross validation will be 10 fold but mean squared error will be the error metric\n",
    "ridge = Ridge()\n",
    "parameters = {'alpha': [1e-15, 1e-10, 1e-8, 1e-4, 1e-3, 1e-2, 1, 5, 10, 20]}\n",
    "ridge_regressor = GridSearchCV(ridge, parameters, scoring = 'neg_mean_squared_error', cv = 10)\n",
    "ridge_regressor.fit(X_train, y_train)\n",
    "\n",
    "print(ridge_regressor.best_params_)\n",
    "print(ridge_regressor.best_score_)"
   ]
  },
  {
   "cell_type": "code",
   "execution_count": 5,
   "metadata": {},
   "outputs": [
    {
     "name": "stdout",
     "output_type": "stream",
     "text": [
      "{'alpha': 1e-08}\n",
      "-0.005633816945084894\n"
     ]
    }
   ],
   "source": [
    "# Conduct cross validation using a lasso model \n",
    "lasso = Lasso()\n",
    "lasso_regressor = GridSearchCV(lasso, parameters, scoring = 'neg_mean_squared_error', cv = 10)\n",
    "lasso_regressor.fit(X_train, y_train)\n",
    "\n",
    "print(lasso_regressor.best_params_)\n",
    "print(lasso_regressor.best_score_)"
   ]
  },
  {
   "cell_type": "code",
   "execution_count": 6,
   "metadata": {},
   "outputs": [
    {
     "name": "stdout",
     "output_type": "stream",
     "text": [
      "{'alpha': 1e-08}\n",
      "-0.005633816945612493\n"
     ]
    }
   ],
   "source": [
    "# Conduct crossvalidation on Elastic net\n",
    "elnet = ElasticNet()\n",
    "elnet_regressor = GridSearchCV(elnet, parameters, scoring = 'neg_mean_squared_error', cv = 10)\n",
    "elnet_regressor.fit(X_train, y_train)\n",
    "\n",
    "print(elnet_regressor.best_params_)\n",
    "print(elnet_regressor.best_score_)"
   ]
  },
  {
   "cell_type": "code",
   "execution_count": 11,
   "metadata": {},
   "outputs": [],
   "source": [
    "# Come up with the MAE MSE and RMSE values for the test data results\n",
    "ridge_pred = ridge_regressor.predict(X_test)*57\n",
    "lasso_pred = lasso_regressor.predict(X_test)*57\n",
    "elnet_pred = elnet_regressor.predict(X_test)*57"
   ]
  },
  {
   "cell_type": "code",
   "execution_count": 8,
   "metadata": {},
   "outputs": [],
   "source": [
    "# Note to decide how i want this to be implemented. Do I try full stack developer and use python flask web page?"
   ]
  },
  {
   "cell_type": "code",
   "execution_count": 14,
   "metadata": {},
   "outputs": [
    {
     "name": "stdout",
     "output_type": "stream",
     "text": [
      "18.222596085049304\n",
      "18.225830265910453\n",
      "18.22583190343597\n"
     ]
    }
   ],
   "source": [
    "# MSE of the different regularization methods\n",
    "print(mean_squared_error(y_pred=ridge_pred, y_true=y_test))\n",
    "print(mean_squared_error(y_pred=lasso_pred, y_true=y_test))\n",
    "print(mean_squared_error(y_pred=elnet_pred, y_true=y_test))"
   ]
  },
  {
   "cell_type": "code",
   "execution_count": 15,
   "metadata": {},
   "outputs": [
    {
     "name": "stdout",
     "output_type": "stream",
     "text": [
      "3.2448414927281393\n",
      "3.245970277097721\n",
      "3.2459706198473555\n"
     ]
    }
   ],
   "source": [
    "# MAE of the different regularization methods\n",
    "print(mean_absolute_error(y_pred=ridge_pred, y_true=y_test))\n",
    "print(mean_absolute_error(y_pred=lasso_pred, y_true=y_test))\n",
    "print(mean_absolute_error(y_pred=elnet_pred, y_true=y_test))"
   ]
  },
  {
   "cell_type": "code",
   "execution_count": 19,
   "metadata": {},
   "outputs": [
    {
     "name": "stdout",
     "output_type": "stream",
     "text": [
      "4.2687932820703915\n",
      "4.269172082021344\n",
      "4.269172273806244\n"
     ]
    }
   ],
   "source": [
    "# RMSE of the different regularization methods\n",
    "print(math.sqrt(mean_squared_error(y_pred=ridge_pred, y_true=y_test)))\n",
    "print(math.sqrt(mean_squared_error(y_pred=lasso_pred, y_true=y_test)))\n",
    "print(math.sqrt(mean_squared_error(y_pred=elnet_pred, y_true=y_test)))"
   ]
  }
 ],
 "metadata": {
  "kernelspec": {
   "display_name": "Python 3",
   "language": "python",
   "name": "python3"
  },
  "language_info": {
   "codemirror_mode": {
    "name": "ipython",
    "version": 3
   },
   "file_extension": ".py",
   "mimetype": "text/x-python",
   "name": "python",
   "nbconvert_exporter": "python",
   "pygments_lexer": "ipython3",
   "version": "3.6.1"
  }
 },
 "nbformat": 4,
 "nbformat_minor": 2
}
