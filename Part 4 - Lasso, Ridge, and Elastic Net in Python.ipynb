{
 "cells": [
  {
   "cell_type": "code",
   "execution_count": 17,
   "metadata": {},
   "outputs": [],
   "source": [
    "import pandas as pd\n",
    "import numpy as np\n",
    "import seaborn as sns\n",
    "from sklearn.model_selection import GridSearchCV\n",
    "from sklearn.linear_model import Ridge\n",
    "from sklearn.linear_model import Lasso\n",
    "from sklearn.linear_model import ElasticNet\n",
    "from sklearn.metrics import mean_squared_error\n",
    "from sklearn.metrics import mean_absolute_error\n",
    "%matplotlib inline"
   ]
  },
  {
   "cell_type": "code",
   "execution_count": 2,
   "metadata": {},
   "outputs": [],
   "source": [
    "# Import training and testing dateframes\n",
    "train = pd.read_csv('train_nba.csv')\n",
    "test = pd.read_csv('test_nba.csv')"
   ]
  },
  {
   "cell_type": "code",
   "execution_count": 3,
   "metadata": {},
   "outputs": [],
   "source": [
    "# Because training and test sets were randomly chosen before just seperate independent \n",
    "# and dependent variables for later use\n",
    "X_train = train.drop('PTS', axis = 1)\n",
    "y_train = train['PTS']\n",
    "X_test = test.drop('PTS', axis = 1)\n",
    "y_test = test['PTS']"
   ]
  },
  {
   "cell_type": "code",
   "execution_count": 8,
   "metadata": {},
   "outputs": [
    {
     "name": "stdout",
     "output_type": "stream",
     "text": [
      "{'alpha': 1}\n",
      "-0.005633807518033507\n"
     ]
    }
   ],
   "source": [
    "# Conduct cross validation using a ridge model we want to echo the method in R so the \n",
    "# cross validation will be 10 fold but mean squared error will be the error metric\n",
    "ridge = Ridge()\n",
    "parameters = {'alpha': [1e-15, 1e-10, 1e-8, 1e-4, 1e-3, 1e-2, 1, 5, 10, 20]}\n",
    "ridge_regressor = GridSearchCV(ridge, parameters, scoring = 'neg_mean_squared_error', cv = 10)\n",
    "ridge_regressor.fit(X_train, y_train)\n",
    "\n",
    "print(ridge_regressor.best_params_)\n",
    "print(ridge_regressor.best_score_)"
   ]
  },
  {
   "cell_type": "code",
   "execution_count": 10,
   "metadata": {},
   "outputs": [
    {
     "name": "stdout",
     "output_type": "stream",
     "text": [
      "{'alpha': 1e-08}\n",
      "-0.005633816945084894\n"
     ]
    }
   ],
   "source": [
    "# Conduct cross validation using a lasso model \n",
    "lasso = Lasso()\n",
    "lasso_regressor = GridSearchCV(lasso, parameters, scoring = 'neg_mean_squared_error', cv = 10)\n",
    "lasso_regressor.fit(X_train, y_train)\n",
    "\n",
    "print(lasso_regressor.best_params_)\n",
    "print(lasso_regressor.best_score_)"
   ]
  },
  {
   "cell_type": "code",
   "execution_count": 13,
   "metadata": {},
   "outputs": [
    {
     "name": "stdout",
     "output_type": "stream",
     "text": [
      "{'alpha': 1e-08}\n",
      "-0.005633816945612493\n"
     ]
    }
   ],
   "source": [
    "# Conduct crossvalidation on Elastic net\n",
    "elnet = ElasticNet()\n",
    "elnet_regressor = GridSearchCV(elnet, parameters, scoring = 'neg_mean_squared_error', cv = 10)\n",
    "elnet_regressor.fit(X_train, y_train)\n",
    "\n",
    "print(elnet_regressor.best_params_)\n",
    "print(elnet_regressor.best_score_)"
   ]
  },
  {
   "cell_type": "code",
   "execution_count": 19,
   "metadata": {},
   "outputs": [],
   "source": [
    "# Come up with the MAE MSE and RMSE values for the test data results\n",
    "ridge_pred = ridge_regressor.predict(X_test)\n",
    "lasso_pred = lasso_regressor.predict(X_test)\n",
    "elnet_pred = elnet_regressor.predict(X_test)"
   ]
  },
  {
   "cell_type": "code",
   "execution_count": null,
   "metadata": {},
   "outputs": [],
   "source": []
  }
 ],
 "metadata": {
  "kernelspec": {
   "display_name": "Python 3",
   "language": "python",
   "name": "python3"
  },
  "language_info": {
   "codemirror_mode": {
    "name": "ipython",
    "version": 3
   },
   "file_extension": ".py",
   "mimetype": "text/x-python",
   "name": "python",
   "nbconvert_exporter": "python",
   "pygments_lexer": "ipython3",
   "version": "3.6.1"
  }
 },
 "nbformat": 4,
 "nbformat_minor": 2
}
