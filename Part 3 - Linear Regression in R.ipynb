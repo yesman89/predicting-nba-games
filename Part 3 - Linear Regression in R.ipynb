{
 "cells": [
  {
   "cell_type": "code",
   "execution_count": 1,
   "metadata": {
    "scrolled": true
   },
   "outputs": [
    {
     "name": "stderr",
     "output_type": "stream",
     "text": [
      "Warning message:\n",
      "\"package 'tidyverse' was built under R version 3.4.3\"-- Attaching packages --------------------------------------- tidyverse 1.2.1 --\n",
      "v ggplot2 2.2.1     v purrr   0.2.4\n",
      "v tibble  1.4.1     v dplyr   0.7.4\n",
      "v tidyr   0.7.2     v stringr 1.2.0\n",
      "v readr   1.1.1     v forcats 0.2.0\n",
      "Warning message:\n",
      "\"package 'tibble' was built under R version 3.4.3\"Warning message:\n",
      "\"package 'tidyr' was built under R version 3.4.2\"Warning message:\n",
      "\"package 'readr' was built under R version 3.4.2\"Warning message:\n",
      "\"package 'purrr' was built under R version 3.4.3\"Warning message:\n",
      "\"package 'dplyr' was built under R version 3.4.3\"Warning message:\n",
      "\"package 'forcats' was built under R version 3.4.2\"-- Conflicts ------------------------------------------ tidyverse_conflicts() --\n",
      "x dplyr::filter() masks stats::filter()\n",
      "x dplyr::lag()    masks stats::lag()\n"
     ]
    }
   ],
   "source": [
    "library(tidyverse)\n",
    "# Read in the csv file\n",
    "df  <- read.csv(\"dfR.csv\")"
   ]
  },
  {
   "cell_type": "code",
   "execution_count": 2,
   "metadata": {},
   "outputs": [
    {
     "data": {
      "text/html": [
       "<table>\n",
       "<thead><tr><th scope=col>X3P.</th><th scope=col>AST</th><th scope=col>BLK</th><th scope=col>FG.</th><th scope=col>FT.</th><th scope=col>MP</th><th scope=col>PF</th><th scope=col>PTS</th><th scope=col>STL</th><th scope=col>TOV</th><th scope=col>TRB</th></tr></thead>\n",
       "<tbody>\n",
       "\t<tr><td>0.000     </td><td>0.65      </td><td>0.00000000</td><td>0.579     </td><td>0.750     </td><td>0.7185754 </td><td>0.3333333 </td><td>0.54385965</td><td>0.625     </td><td>0.5       </td><td>0.16666667</td></tr>\n",
       "\t<tr><td>0.667     </td><td>0.15      </td><td>0.00000000</td><td>0.583     </td><td>1.000     </td><td>0.6532821 </td><td>0.1666667 </td><td>0.35087719</td><td>0.000     </td><td>0.4       </td><td>0.13333333</td></tr>\n",
       "\t<tr><td>0.000     </td><td>0.15      </td><td>0.09090909</td><td>0.462     </td><td>0.500     </td><td>0.6464735 </td><td>0.8333333 </td><td>0.26315789</td><td>0.000     </td><td>0.3       </td><td>0.26666667</td></tr>\n",
       "\t<tr><td>0.000     </td><td>0.00      </td><td>0.18181818</td><td>0.400     </td><td>0.667     </td><td>0.2987081 </td><td>0.8333333 </td><td>0.10526316</td><td>0.000     </td><td>0.1       </td><td>0.06666667</td></tr>\n",
       "\t<tr><td>0.000     </td><td>0.05      </td><td>0.00000000</td><td>0.000     </td><td>0.000     </td><td>0.2630936 </td><td>0.6666667 </td><td>0.00000000</td><td>0.000     </td><td>0.0       </td><td>0.03333333</td></tr>\n",
       "\t<tr><td>0.000     </td><td>0.25      </td><td>0.09090909</td><td>0.250     </td><td>0.000     </td><td>0.5146648 </td><td>0.8333333 </td><td>0.07017544</td><td>0.125     </td><td>0.0       </td><td>0.20000000</td></tr>\n",
       "</tbody>\n",
       "</table>\n"
      ],
      "text/latex": [
       "\\begin{tabular}{r|lllllllllll}\n",
       " X3P. & AST & BLK & FG. & FT. & MP & PF & PTS & STL & TOV & TRB\\\\\n",
       "\\hline\n",
       "\t 0.000      & 0.65       & 0.00000000 & 0.579      & 0.750      & 0.7185754  & 0.3333333  & 0.54385965 & 0.625      & 0.5        & 0.16666667\\\\\n",
       "\t 0.667      & 0.15       & 0.00000000 & 0.583      & 1.000      & 0.6532821  & 0.1666667  & 0.35087719 & 0.000      & 0.4        & 0.13333333\\\\\n",
       "\t 0.000      & 0.15       & 0.09090909 & 0.462      & 0.500      & 0.6464735  & 0.8333333  & 0.26315789 & 0.000      & 0.3        & 0.26666667\\\\\n",
       "\t 0.000      & 0.00       & 0.18181818 & 0.400      & 0.667      & 0.2987081  & 0.8333333  & 0.10526316 & 0.000      & 0.1        & 0.06666667\\\\\n",
       "\t 0.000      & 0.05       & 0.00000000 & 0.000      & 0.000      & 0.2630936  & 0.6666667  & 0.00000000 & 0.000      & 0.0        & 0.03333333\\\\\n",
       "\t 0.000      & 0.25       & 0.09090909 & 0.250      & 0.000      & 0.5146648  & 0.8333333  & 0.07017544 & 0.125      & 0.0        & 0.20000000\\\\\n",
       "\\end{tabular}\n"
      ],
      "text/markdown": [
       "\n",
       "X3P. | AST | BLK | FG. | FT. | MP | PF | PTS | STL | TOV | TRB | \n",
       "|---|---|---|---|---|---|\n",
       "| 0.000      | 0.65       | 0.00000000 | 0.579      | 0.750      | 0.7185754  | 0.3333333  | 0.54385965 | 0.625      | 0.5        | 0.16666667 | \n",
       "| 0.667      | 0.15       | 0.00000000 | 0.583      | 1.000      | 0.6532821  | 0.1666667  | 0.35087719 | 0.000      | 0.4        | 0.13333333 | \n",
       "| 0.000      | 0.15       | 0.09090909 | 0.462      | 0.500      | 0.6464735  | 0.8333333  | 0.26315789 | 0.000      | 0.3        | 0.26666667 | \n",
       "| 0.000      | 0.00       | 0.18181818 | 0.400      | 0.667      | 0.2987081  | 0.8333333  | 0.10526316 | 0.000      | 0.1        | 0.06666667 | \n",
       "| 0.000      | 0.05       | 0.00000000 | 0.000      | 0.000      | 0.2630936  | 0.6666667  | 0.00000000 | 0.000      | 0.0        | 0.03333333 | \n",
       "| 0.000      | 0.25       | 0.09090909 | 0.250      | 0.000      | 0.5146648  | 0.8333333  | 0.07017544 | 0.125      | 0.0        | 0.20000000 | \n",
       "\n",
       "\n"
      ],
      "text/plain": [
       "  X3P.  AST  BLK        FG.   FT.   MP        PF        PTS        STL   TOV\n",
       "1 0.000 0.65 0.00000000 0.579 0.750 0.7185754 0.3333333 0.54385965 0.625 0.5\n",
       "2 0.667 0.15 0.00000000 0.583 1.000 0.6532821 0.1666667 0.35087719 0.000 0.4\n",
       "3 0.000 0.15 0.09090909 0.462 0.500 0.6464735 0.8333333 0.26315789 0.000 0.3\n",
       "4 0.000 0.00 0.18181818 0.400 0.667 0.2987081 0.8333333 0.10526316 0.000 0.1\n",
       "5 0.000 0.05 0.00000000 0.000 0.000 0.2630936 0.6666667 0.00000000 0.000 0.0\n",
       "6 0.000 0.25 0.09090909 0.250 0.000 0.5146648 0.8333333 0.07017544 0.125 0.0\n",
       "  TRB       \n",
       "1 0.16666667\n",
       "2 0.13333333\n",
       "3 0.26666667\n",
       "4 0.06666667\n",
       "5 0.03333333\n",
       "6 0.20000000"
      ]
     },
     "metadata": {},
     "output_type": "display_data"
    }
   ],
   "source": [
    "head(df)"
   ]
  },
  {
   "cell_type": "code",
   "execution_count": 2,
   "metadata": {},
   "outputs": [],
   "source": [
    "# Change column names\n",
    "df$TPP <- df$X3P.\n",
    "df$FGP <- df$FG.\n",
    "df$FTP <- df$FT."
   ]
  },
  {
   "cell_type": "code",
   "execution_count": 3,
   "metadata": {},
   "outputs": [],
   "source": [
    "# Remove unnessecary columns\n",
    "drop_cols <- c(\"X3P.\", \"FG.\", \"FT.\")\n",
    "df <- df %>% select(-one_of(drop_cols))"
   ]
  },
  {
   "cell_type": "code",
   "execution_count": 4,
   "metadata": {},
   "outputs": [],
   "source": [
    "# Split data into a training, validation, and testing sets\n",
    "set.seed(1234)\n",
    "# Codes splits data and training set has 70% of the data\n",
    "ind <- sort(sample(nrow(df), nrow(df)*.7, replace = F))\n",
    "train <- df[ind,]\n",
    "val_test <- df[-ind,]\n",
    "\n",
    "# Code splits the data again on that remaining 30% from before and splits it\n",
    "# in half so that 15% of original dataset is in the valdation and test splits\n",
    "ind2 <- sort(sample(nrow(val_test), nrow(val_test)*.5, replace = F))\n",
    "val <- df[ind2,]\n",
    "test <- df[-ind2,]"
   ]
  },
  {
   "cell_type": "code",
   "execution_count": 32,
   "metadata": {},
   "outputs": [],
   "source": [
    "# Start linear regression. Null hypothesis is that there is no relationship between the independent\n",
    "# variables and the dependent variable. Alternative is there is.\n",
    "fit <- lm(PTS ~ ., data=train)"
   ]
  },
  {
   "cell_type": "code",
   "execution_count": 33,
   "metadata": {},
   "outputs": [
    {
     "data": {
      "text/plain": [
       "\n",
       "Call:\n",
       "lm(formula = PTS ~ ., data = train)\n",
       "\n",
       "Residuals:\n",
       "     Min       1Q   Median       3Q      Max \n",
       "-0.24944 -0.04815 -0.00510  0.04184  0.65218 \n",
       "\n",
       "Coefficients:\n",
       "             Estimate Std. Error t value Pr(>|t|)    \n",
       "(Intercept) -0.081043   0.001624 -49.913  < 2e-16 ***\n",
       "AST          0.006167   0.006258   0.985 0.324440    \n",
       "BLK         -0.050571   0.008585  -5.891 3.93e-09 ***\n",
       "MP           0.342103   0.005469  62.552  < 2e-16 ***\n",
       "PF          -0.026359   0.002853  -9.238  < 2e-16 ***\n",
       "STL          0.020799   0.005523   3.766 0.000167 ***\n",
       "TOV          0.053127   0.005214  10.190  < 2e-16 ***\n",
       "TRB          0.090578   0.007225  12.536  < 2e-16 ***\n",
       "TPP          0.076231   0.002445  31.175  < 2e-16 ***\n",
       "FGP          0.127109   0.002694  47.178  < 2e-16 ***\n",
       "FTP          0.071225   0.001635  43.558  < 2e-16 ***\n",
       "---\n",
       "Signif. codes:  0 '***' 0.001 '**' 0.01 '*' 0.05 '.' 0.1 ' ' 1\n",
       "\n",
       "Residual standard error: 0.075 on 14492 degrees of freedom\n",
       "Multiple R-squared:  0.6893,\tAdjusted R-squared:  0.6891 \n",
       "F-statistic:  3215 on 10 and 14492 DF,  p-value: < 2.2e-16\n"
      ]
     },
     "metadata": {},
     "output_type": "display_data"
    }
   ],
   "source": [
    "# Check the summary of the results of the regression\n",
    "summary(fit)"
   ]
  },
  {
   "cell_type": "code",
   "execution_count": 38,
   "metadata": {},
   "outputs": [
    {
     "data": {
      "text/plain": [
       "\n",
       "Call:\n",
       "lm(formula = PTS ~ BLK + MP + PF + STL + TOV + TRB + TPP + FGP + \n",
       "    FTP, data = train)\n",
       "\n",
       "Residuals:\n",
       "     Min       1Q   Median       3Q      Max \n",
       "-0.24870 -0.04813 -0.00520  0.04185  0.65290 \n",
       "\n",
       "Coefficients:\n",
       "             Estimate Std. Error t value Pr(>|t|)    \n",
       "(Intercept) -0.081151   0.001620 -50.092  < 2e-16 ***\n",
       "BLK         -0.051388   0.008545  -6.014 1.85e-09 ***\n",
       "MP           0.344238   0.005021  68.553  < 2e-16 ***\n",
       "PF          -0.026616   0.002841  -9.367  < 2e-16 ***\n",
       "STL          0.021308   0.005499   3.875 0.000107 ***\n",
       "TOV          0.054177   0.005104  10.615  < 2e-16 ***\n",
       "TRB          0.089284   0.007105  12.566  < 2e-16 ***\n",
       "TPP          0.076285   0.002445  31.205  < 2e-16 ***\n",
       "FGP          0.127005   0.002692  47.176  < 2e-16 ***\n",
       "FTP          0.071244   0.001635  43.572  < 2e-16 ***\n",
       "---\n",
       "Signif. codes:  0 '***' 0.001 '**' 0.01 '*' 0.05 '.' 0.1 ' ' 1\n",
       "\n",
       "Residual standard error: 0.075 on 14493 degrees of freedom\n",
       "Multiple R-squared:  0.6893,\tAdjusted R-squared:  0.6891 \n",
       "F-statistic:  3572 on 9 and 14493 DF,  p-value: < 2.2e-16\n"
      ]
     },
     "metadata": {},
     "output_type": "display_data"
    }
   ],
   "source": [
    "step.model <- stepAIC(fit, direction = \"both\", \n",
    "                      trace = FALSE)\n",
    "summary(step.model)"
   ]
  },
  {
   "cell_type": "code",
   "execution_count": 40,
   "metadata": {},
   "outputs": [
    {
     "data": {
      "image/png": "[encoded data removed]",
      "text/plain": [
       "Plot with title \"\""
      ]
     },
     "metadata": {},
     "output_type": "display_data"
    },
    {
     "data": {
      "image/png": "[encoded data removed]",
      "text/plain": [
       "Plot with title \"\""
      ]
     },
     "metadata": {},
     "output_type": "display_data"
    },
    {
     "data": {
      "image/png": "[encoded data removed]",
      "text/plain": [
       "Plot with title \"\""
      ]
     },
     "metadata": {},
     "output_type": "display_data"
    },
    {
     "data": {
      "image/png": "[encoded data removed]",
      "text/plain": [
       "Plot with title \"\""
      ]
     },
     "metadata": {},
     "output_type": "display_data"
    }
   ],
   "source": [
    "plot(step.model)"
   ]
  },
  {
   "cell_type": "code",
   "execution_count": 42,
   "metadata": {},
   "outputs": [
    {
     "name": "stderr",
     "output_type": "stream",
     "text": [
      "Loading required package: leaps\n",
      "Warning message:\n",
      "\"package 'leaps' was built under R version 3.4.4\""
     ]
    },
    {
     "data": {
      "text/html": [
       "<table>\n",
       "<thead><tr><th scope=col>nvmax</th><th scope=col>RMSE</th><th scope=col>Rsquared</th><th scope=col>RMSESD</th><th scope=col>RsquaredSD</th></tr></thead>\n",
       "<tbody>\n",
       "\t<tr><td> 1         </td><td>0.09051880 </td><td>0.5473834  </td><td>0.001716137</td><td>0.013087975</td></tr>\n",
       "\t<tr><td> 2         </td><td>0.08304854 </td><td>0.6190834  </td><td>0.001660596</td><td>0.011696413</td></tr>\n",
       "\t<tr><td> 3         </td><td>0.07834422 </td><td>0.6610534  </td><td>0.001512553</td><td>0.009786576</td></tr>\n",
       "\t<tr><td> 4         </td><td>0.07590403 </td><td>0.6818475  </td><td>0.001861730</td><td>0.011996344</td></tr>\n",
       "\t<tr><td> 5         </td><td>0.07573752 </td><td>0.6832453  </td><td>0.001864084</td><td>0.012011516</td></tr>\n",
       "\t<tr><td> 6         </td><td>0.07537260 </td><td>0.6862806  </td><td>0.001850241</td><td>0.011711573</td></tr>\n",
       "\t<tr><td> 7         </td><td>0.07512671 </td><td>0.6883423  </td><td>0.001899918</td><td>0.012260485</td></tr>\n",
       "\t<tr><td> 8         </td><td>0.07503474 </td><td>0.6890878  </td><td>0.001895935</td><td>0.012161365</td></tr>\n",
       "\t<tr><td> 9         </td><td>0.07500366 </td><td>0.6893509  </td><td>0.001885183</td><td>0.011875377</td></tr>\n",
       "\t<tr><td>10         </td><td>0.07501306 </td><td>0.6892779  </td><td>0.001896736</td><td>0.011937717</td></tr>\n",
       "</tbody>\n",
       "</table>\n"
      ],
      "text/latex": [
       "\\begin{tabular}{r|lllll}\n",
       " nvmax & RMSE & Rsquared & RMSESD & RsquaredSD\\\\\n",
       "\\hline\n",
       "\t  1          & 0.09051880  & 0.5473834   & 0.001716137 & 0.013087975\\\\\n",
       "\t  2          & 0.08304854  & 0.6190834   & 0.001660596 & 0.011696413\\\\\n",
       "\t  3          & 0.07834422  & 0.6610534   & 0.001512553 & 0.009786576\\\\\n",
       "\t  4          & 0.07590403  & 0.6818475   & 0.001861730 & 0.011996344\\\\\n",
       "\t  5          & 0.07573752  & 0.6832453   & 0.001864084 & 0.012011516\\\\\n",
       "\t  6          & 0.07537260  & 0.6862806   & 0.001850241 & 0.011711573\\\\\n",
       "\t  7          & 0.07512671  & 0.6883423   & 0.001899918 & 0.012260485\\\\\n",
       "\t  8          & 0.07503474  & 0.6890878   & 0.001895935 & 0.012161365\\\\\n",
       "\t  9          & 0.07500366  & 0.6893509   & 0.001885183 & 0.011875377\\\\\n",
       "\t 10          & 0.07501306  & 0.6892779   & 0.001896736 & 0.011937717\\\\\n",
       "\\end{tabular}\n"
      ],
      "text/markdown": [
       "\n",
       "nvmax | RMSE | Rsquared | RMSESD | RsquaredSD | \n",
       "|---|---|---|---|---|---|---|---|---|---|\n",
       "|  1          | 0.09051880  | 0.5473834   | 0.001716137 | 0.013087975 | \n",
       "|  2          | 0.08304854  | 0.6190834   | 0.001660596 | 0.011696413 | \n",
       "|  3          | 0.07834422  | 0.6610534   | 0.001512553 | 0.009786576 | \n",
       "|  4          | 0.07590403  | 0.6818475   | 0.001861730 | 0.011996344 | \n",
       "|  5          | 0.07573752  | 0.6832453   | 0.001864084 | 0.012011516 | \n",
       "|  6          | 0.07537260  | 0.6862806   | 0.001850241 | 0.011711573 | \n",
       "|  7          | 0.07512671  | 0.6883423   | 0.001899918 | 0.012260485 | \n",
       "|  8          | 0.07503474  | 0.6890878   | 0.001895935 | 0.012161365 | \n",
       "|  9          | 0.07500366  | 0.6893509   | 0.001885183 | 0.011875377 | \n",
       "| 10          | 0.07501306  | 0.6892779   | 0.001896736 | 0.011937717 | \n",
       "\n",
       "\n"
      ],
      "text/plain": [
       "   nvmax RMSE       Rsquared  RMSESD      RsquaredSD \n",
       "1   1    0.09051880 0.5473834 0.001716137 0.013087975\n",
       "2   2    0.08304854 0.6190834 0.001660596 0.011696413\n",
       "3   3    0.07834422 0.6610534 0.001512553 0.009786576\n",
       "4   4    0.07590403 0.6818475 0.001861730 0.011996344\n",
       "5   5    0.07573752 0.6832453 0.001864084 0.012011516\n",
       "6   6    0.07537260 0.6862806 0.001850241 0.011711573\n",
       "7   7    0.07512671 0.6883423 0.001899918 0.012260485\n",
       "8   8    0.07503474 0.6890878 0.001895935 0.012161365\n",
       "9   9    0.07500366 0.6893509 0.001885183 0.011875377\n",
       "10 10    0.07501306 0.6892779 0.001896736 0.011937717"
      ]
     },
     "metadata": {},
     "output_type": "display_data"
    }
   ],
   "source": [
    "train.control <- trainControl(method = \"cv\", number = 10)\n",
    "# Train the model using backwards selection\n",
    "step.model <- train(PTS ~., data = train,\n",
    "                    method = \"leapBackward\", \n",
    "                    tuneGrid = data.frame(nvmax = 1:10),\n",
    "                    trControl = train.control\n",
    "                    )\n",
    "step.model$results"
   ]
  },
  {
   "cell_type": "code",
   "execution_count": 49,
   "metadata": {},
   "outputs": [
    {
     "ename": "ERROR",
     "evalue": "Error in plot.train(step.model, plotType = \"level\"): There must be at least 2 tuning parameters with multiple values\n",
     "output_type": "error",
     "traceback": [
      "Error in plot.train(step.model, plotType = \"level\"): There must be at least 2 tuning parameters with multiple values\nTraceback:\n",
      "1. plot(step.model, plotType = \"level\")",
      "2. plot.train(step.model, plotType = \"level\")",
      "3. stop(\"There must be at least 2 tuning parameters with multiple values\")"
     ]
    }
   ],
   "source": [
    "plot(step.model)"
   ]
  },
  {
   "cell_type": "code",
   "execution_count": 46,
   "metadata": {},
   "outputs": [
    {
     "data": {
      "text/html": [
       "<table>\n",
       "<thead><tr><th></th><th scope=col>nvmax</th></tr></thead>\n",
       "<tbody>\n",
       "\t<tr><th scope=row>9</th><td>9</td></tr>\n",
       "</tbody>\n",
       "</table>\n"
      ],
      "text/latex": [
       "\\begin{tabular}{r|l}\n",
       "  & nvmax\\\\\n",
       "\\hline\n",
       "\t9 & 9\\\\\n",
       "\\end{tabular}\n"
      ],
      "text/markdown": [
       "\n",
       "| <!--/--> | nvmax | \n",
       "|---|\n",
       "| 9 | 9 | \n",
       "\n",
       "\n"
      ],
      "text/plain": [
       "  nvmax\n",
       "9 9    "
      ]
     },
     "metadata": {},
     "output_type": "display_data"
    }
   ],
   "source": [
    "# Best Model given the results above is the model with 9 variables as seen\n",
    "# previously in the stepAIC function\n",
    "step.model$bestTune"
   ]
  },
  {
   "cell_type": "code",
   "execution_count": 45,
   "metadata": {},
   "outputs": [
    {
     "data": {
      "text/plain": [
       "Subset selection object\n",
       "10 Variables  (and intercept)\n",
       "    Forced in Forced out\n",
       "AST     FALSE      FALSE\n",
       "BLK     FALSE      FALSE\n",
       "MP      FALSE      FALSE\n",
       "PF      FALSE      FALSE\n",
       "STL     FALSE      FALSE\n",
       "TOV     FALSE      FALSE\n",
       "TRB     FALSE      FALSE\n",
       "TPP     FALSE      FALSE\n",
       "FGP     FALSE      FALSE\n",
       "FTP     FALSE      FALSE\n",
       "1 subsets of each size up to 9\n",
       "Selection Algorithm: 'sequential replacement'\n",
       "         AST BLK MP  PF  STL TOV TRB TPP FGP FTP\n",
       "1  ( 1 ) \" \" \" \" \"*\" \" \" \" \" \" \" \" \" \" \" \" \" \" \"\n",
       "2  ( 1 ) \" \" \" \" \"*\" \" \" \" \" \" \" \" \" \" \" \"*\" \" \"\n",
       "3  ( 1 ) \" \" \" \" \"*\" \" \" \" \" \" \" \" \" \" \" \"*\" \"*\"\n",
       "4  ( 1 ) \" \" \" \" \"*\" \" \" \" \" \" \" \" \" \"*\" \"*\" \"*\"\n",
       "5  ( 1 ) \" \" \" \" \"*\" \" \" \" \" \"*\" \" \" \"*\" \"*\" \"*\"\n",
       "6  ( 1 ) \" \" \" \" \"*\" \" \" \" \" \"*\" \"*\" \"*\" \"*\" \"*\"\n",
       "7  ( 1 ) \" \" \" \" \"*\" \"*\" \" \" \"*\" \"*\" \"*\" \"*\" \"*\"\n",
       "8  ( 1 ) \" \" \"*\" \"*\" \"*\" \" \" \"*\" \"*\" \"*\" \"*\" \"*\"\n",
       "9  ( 1 ) \" \" \"*\" \"*\" \"*\" \"*\" \"*\" \"*\" \"*\" \"*\" \"*\""
      ]
     },
     "metadata": {},
     "output_type": "display_data"
    }
   ],
   "source": [
    "# This again validates the finding of the previous function by showing the \n",
    "# model without AST is the best one\n",
    "summary(step.model$finalModel)"
   ]
  },
  {
   "cell_type": "code",
   "execution_count": 63,
   "metadata": {},
   "outputs": [],
   "source": [
    "# Now lets make predictions with out 9 variable model\n",
    "X_test <- val_test[,-5]\n",
    "Y_test <- val_test$PTS\n",
    "\n",
    "pred_data <- predict(fit, X_test)"
   ]
  },
  {
   "cell_type": "code",
   "execution_count": 81,
   "metadata": {},
   "outputs": [
    {
     "data": {
      "text/html": [
       "0.686787791850115"
      ],
      "text/latex": [
       "0.686787791850115"
      ],
      "text/markdown": [
       "0.686787791850115"
      ],
      "text/plain": [
       "[1] 0.6867878"
      ]
     },
     "metadata": {},
     "output_type": "display_data"
    }
   ],
   "source": [
    "# R2 value\n",
    "R2(pred_data, Y_test)"
   ]
  },
  {
   "cell_type": "code",
   "execution_count": 76,
   "metadata": {},
   "outputs": [],
   "source": [
    "# Multiply by the largest point scored in the season to un normalize\n",
    "Y_test_orig <- Y_test*57\n",
    "pred_data_orig <- pred_data*57"
   ]
  },
  {
   "cell_type": "code",
   "execution_count": 77,
   "metadata": {},
   "outputs": [
    {
     "data": {
      "text/html": [
       "18.2262060587118"
      ],
      "text/latex": [
       "18.2262060587118"
      ],
      "text/markdown": [
       "18.2262060587118"
      ],
      "text/plain": [
       "[1] 18.22621"
      ]
     },
     "metadata": {},
     "output_type": "display_data"
    }
   ],
   "source": [
    "# MSE\n",
    "mean((Y_test_orig - pred_data_orig)^2)"
   ]
  },
  {
   "cell_type": "code",
   "execution_count": 78,
   "metadata": {},
   "outputs": [
    {
     "data": {
      "text/html": [
       "4.26921609416902"
      ],
      "text/latex": [
       "4.26921609416902"
      ],
      "text/markdown": [
       "4.26921609416902"
      ],
      "text/plain": [
       "[1] 4.269216"
      ]
     },
     "metadata": {},
     "output_type": "display_data"
    }
   ],
   "source": [
    "# RMSE\n",
    "sqrt(mean((Y_test_orig - pred_data_orig)^2))"
   ]
  },
  {
   "cell_type": "code",
   "execution_count": 79,
   "metadata": {},
   "outputs": [
    {
     "data": {
      "text/html": [
       "3.2453508899765"
      ],
      "text/latex": [
       "3.2453508899765"
      ],
      "text/markdown": [
       "3.2453508899765"
      ],
      "text/plain": [
       "[1] 3.245351"
      ]
     },
     "metadata": {},
     "output_type": "display_data"
    }
   ],
   "source": [
    "# MAE\n",
    "mean(abs(Y_test_orig - pred_data_orig))"
   ]
  },
  {
   "cell_type": "code",
   "execution_count": 5,
   "metadata": {},
   "outputs": [],
   "source": [
    "# Onto Lasso, Ridge, and Elastic Net Regression\n",
    "# Export the train and test datasets for the next part\n",
    "write.csv(train, 'train_nba.csv')\n",
    "write.csv(val_test, 'test_nba.csv')"
   ]
  }
 ],
 "metadata": {
  "kernelspec": {
   "display_name": "R",
   "language": "R",
   "name": "ir"
  },
  "language_info": {
   "codemirror_mode": "r",
   "file_extension": ".r",
   "mimetype": "text/x-r-source",
   "name": "R",
   "pygments_lexer": "r",
   "version": "3.4.1"
  }
 },
 "nbformat": 4,
 "nbformat_minor": 2
}
