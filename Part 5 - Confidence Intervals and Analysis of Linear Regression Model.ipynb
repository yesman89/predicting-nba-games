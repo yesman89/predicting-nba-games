{
 "cells": [
  {
   "cell_type": "code",
   "execution_count": 10,
   "metadata": {},
   "outputs": [],
   "source": [
    "library(tidyverse)\n",
    "# Read in the csv file\n",
    "df  <- read.csv(\"dfCR.csv\")"
   ]
  },
  {
   "cell_type": "code",
   "execution_count": 11,
   "metadata": {},
   "outputs": [
    {
     "data": {
      "text/html": [
       "<table>\n",
       "<thead><tr><th scope=col>MP</th><th scope=col>FG.</th><th scope=col>X3P.</th><th scope=col>FT.</th><th scope=col>ORB</th><th scope=col>DRB</th><th scope=col>TRB</th><th scope=col>AST</th><th scope=col>STL</th><th scope=col>BLK</th><th scope=col>TOV</th><th scope=col>PF</th><th scope=col>PTS</th></tr></thead>\n",
       "<tbody>\n",
       "\t<tr><td>41.16</td><td>0.579</td><td>0.000</td><td>0.750</td><td>1    </td><td>4    </td><td>5    </td><td>13   </td><td>5    </td><td>0    </td><td>5    </td><td>2    </td><td>31   </td></tr>\n",
       "\t<tr><td>37.42</td><td>0.583</td><td>0.667</td><td>1.000</td><td>3    </td><td>1    </td><td>4    </td><td> 3   </td><td>0    </td><td>0    </td><td>4    </td><td>1    </td><td>20   </td></tr>\n",
       "\t<tr><td>37.03</td><td>0.462</td><td>0.000</td><td>0.500</td><td>1    </td><td>7    </td><td>8    </td><td> 3   </td><td>0    </td><td>1    </td><td>3    </td><td>5    </td><td>15   </td></tr>\n",
       "\t<tr><td>17.11</td><td>0.400</td><td>0.000</td><td>0.667</td><td>0    </td><td>2    </td><td>2    </td><td> 0   </td><td>0    </td><td>2    </td><td>1    </td><td>5    </td><td> 6   </td></tr>\n",
       "\t<tr><td>15.07</td><td>0.000</td><td>0.000</td><td>0.000</td><td>0    </td><td>1    </td><td>1    </td><td> 1   </td><td>0    </td><td>0    </td><td>0    </td><td>4    </td><td> 0   </td></tr>\n",
       "\t<tr><td>29.48</td><td>0.250</td><td>0.000</td><td>0.000</td><td>1    </td><td>5    </td><td>6    </td><td> 5   </td><td>1    </td><td>1    </td><td>0    </td><td>5    </td><td> 4   </td></tr>\n",
       "</tbody>\n",
       "</table>\n"
      ],
      "text/latex": [
       "\\begin{tabular}{r|lllllllllllll}\n",
       " MP & FG. & X3P. & FT. & ORB & DRB & TRB & AST & STL & BLK & TOV & PF & PTS\\\\\n",
       "\\hline\n",
       "\t 41.16 & 0.579 & 0.000 & 0.750 & 1     & 4     & 5     & 13    & 5     & 0     & 5     & 2     & 31   \\\\\n",
       "\t 37.42 & 0.583 & 0.667 & 1.000 & 3     & 1     & 4     &  3    & 0     & 0     & 4     & 1     & 20   \\\\\n",
       "\t 37.03 & 0.462 & 0.000 & 0.500 & 1     & 7     & 8     &  3    & 0     & 1     & 3     & 5     & 15   \\\\\n",
       "\t 17.11 & 0.400 & 0.000 & 0.667 & 0     & 2     & 2     &  0    & 0     & 2     & 1     & 5     &  6   \\\\\n",
       "\t 15.07 & 0.000 & 0.000 & 0.000 & 0     & 1     & 1     &  1    & 0     & 0     & 0     & 4     &  0   \\\\\n",
       "\t 29.48 & 0.250 & 0.000 & 0.000 & 1     & 5     & 6     &  5    & 1     & 1     & 0     & 5     &  4   \\\\\n",
       "\\end{tabular}\n"
      ],
      "text/markdown": [
       "\n",
       "MP | FG. | X3P. | FT. | ORB | DRB | TRB | AST | STL | BLK | TOV | PF | PTS | \n",
       "|---|---|---|---|---|---|\n",
       "| 41.16 | 0.579 | 0.000 | 0.750 | 1     | 4     | 5     | 13    | 5     | 0     | 5     | 2     | 31    | \n",
       "| 37.42 | 0.583 | 0.667 | 1.000 | 3     | 1     | 4     |  3    | 0     | 0     | 4     | 1     | 20    | \n",
       "| 37.03 | 0.462 | 0.000 | 0.500 | 1     | 7     | 8     |  3    | 0     | 1     | 3     | 5     | 15    | \n",
       "| 17.11 | 0.400 | 0.000 | 0.667 | 0     | 2     | 2     |  0    | 0     | 2     | 1     | 5     |  6    | \n",
       "| 15.07 | 0.000 | 0.000 | 0.000 | 0     | 1     | 1     |  1    | 0     | 0     | 0     | 4     |  0    | \n",
       "| 29.48 | 0.250 | 0.000 | 0.000 | 1     | 5     | 6     |  5    | 1     | 1     | 0     | 5     |  4    | \n",
       "\n",
       "\n"
      ],
      "text/plain": [
       "  MP    FG.   X3P.  FT.   ORB DRB TRB AST STL BLK TOV PF PTS\n",
       "1 41.16 0.579 0.000 0.750 1   4   5   13  5   0   5   2  31 \n",
       "2 37.42 0.583 0.667 1.000 3   1   4    3  0   0   4   1  20 \n",
       "3 37.03 0.462 0.000 0.500 1   7   8    3  0   1   3   5  15 \n",
       "4 17.11 0.400 0.000 0.667 0   2   2    0  0   2   1   5   6 \n",
       "5 15.07 0.000 0.000 0.000 0   1   1    1  0   0   0   4   0 \n",
       "6 29.48 0.250 0.000 0.000 1   5   6    5  1   1   0   5   4 "
      ]
     },
     "metadata": {},
     "output_type": "display_data"
    }
   ],
   "source": [
    "head(df)"
   ]
  },
  {
   "cell_type": "code",
   "execution_count": 12,
   "metadata": {},
   "outputs": [],
   "source": [
    "# Change column names\n",
    "df$TPP <- df$X3P.\n",
    "df$FGP <- df$FG.\n",
    "df$FTP <- df$FT."
   ]
  },
  {
   "cell_type": "code",
   "execution_count": 13,
   "metadata": {},
   "outputs": [],
   "source": [
    "# Remove unnessecary columns\n",
    "drop_cols <- c(\"X3P.\", \"FG.\", \"FT.\")\n",
    "df <- df %>% select(-one_of(drop_cols))"
   ]
  },
  {
   "cell_type": "code",
   "execution_count": 14,
   "metadata": {},
   "outputs": [],
   "source": [
    "# Split data into a training, validation, and testing sets\n",
    "set.seed(1234)\n",
    "# Codes splits data and training set has 70% of the data\n",
    "ind <- sort(sample(nrow(df), nrow(df)*.7, replace = F))\n",
    "train <- df[ind,]\n",
    "val_test <- df[-ind,]"
   ]
  },
  {
   "cell_type": "code",
   "execution_count": 15,
   "metadata": {},
   "outputs": [],
   "source": [
    "# Use best model obtained in part 3\n",
    "fit <- lm(PTS ~ BLK + MP + PF + STL + TOV + TRB + TPP + FGP + FTP, data=train)"
   ]
  },
  {
   "cell_type": "code",
   "execution_count": 16,
   "metadata": {},
   "outputs": [
    {
     "data": {
      "text/plain": [
       "\n",
       "Call:\n",
       "lm(formula = PTS ~ BLK + MP + PF + STL + TOV + TRB + TPP + FGP + \n",
       "    FTP, data = train)\n",
       "\n",
       "Residuals:\n",
       "    Min      1Q  Median      3Q     Max \n",
       "-14.176  -2.743  -0.296   2.386  37.215 \n",
       "\n",
       "Coefficients:\n",
       "             Estimate Std. Error t value Pr(>|t|)    \n",
       "(Intercept) -4.625591   0.092341 -50.092  < 2e-16 ***\n",
       "BLK         -0.266283   0.044278  -6.014 1.85e-09 ***\n",
       "MP           0.342556   0.004997  68.553  < 2e-16 ***\n",
       "PF          -0.252855   0.026994  -9.367  < 2e-16 ***\n",
       "STL          0.151816   0.039180   3.875 0.000107 ***\n",
       "TOV          0.308807   0.029091  10.615  < 2e-16 ***\n",
       "TRB          0.169639   0.013500  12.566  < 2e-16 ***\n",
       "TPP          4.348223   0.139346  31.205  < 2e-16 ***\n",
       "FGP          7.239267   0.153452  47.176  < 2e-16 ***\n",
       "FTP          4.060908   0.093199  43.572  < 2e-16 ***\n",
       "---\n",
       "Signif. codes:  0 '***' 0.001 '**' 0.01 '*' 0.05 '.' 0.1 ' ' 1\n",
       "\n",
       "Residual standard error: 4.275 on 14493 degrees of freedom\n",
       "Multiple R-squared:  0.6893,\tAdjusted R-squared:  0.6891 \n",
       "F-statistic:  3572 on 9 and 14493 DF,  p-value: < 2.2e-16\n"
      ]
     },
     "metadata": {},
     "output_type": "display_data"
    }
   ],
   "source": [
    "summary(fit)"
   ]
  },
  {
   "cell_type": "code",
   "execution_count": 17,
   "metadata": {},
   "outputs": [
    {
     "data": {
      "text/html": [
       "<table>\n",
       "<thead><tr><th></th><th scope=col>2.5 %</th><th scope=col>97.5 %</th></tr></thead>\n",
       "<tbody>\n",
       "\t<tr><th scope=row>(Intercept)</th><td>-4.80659184</td><td>-4.4445911 </td></tr>\n",
       "\t<tr><th scope=row>BLK</th><td>-0.35307291</td><td>-0.1794929 </td></tr>\n",
       "\t<tr><th scope=row>MP</th><td> 0.33276115</td><td> 0.3523504 </td></tr>\n",
       "\t<tr><th scope=row>PF</th><td>-0.30576633</td><td>-0.1999443 </td></tr>\n",
       "\t<tr><th scope=row>STL</th><td> 0.07501824</td><td> 0.2286144 </td></tr>\n",
       "\t<tr><th scope=row>TOV</th><td> 0.25178365</td><td> 0.3658296 </td></tr>\n",
       "\t<tr><th scope=row>TRB</th><td> 0.14317816</td><td> 0.1961005 </td></tr>\n",
       "\t<tr><th scope=row>TPP</th><td> 4.07508787</td><td> 4.6213590 </td></tr>\n",
       "\t<tr><th scope=row>FGP</th><td> 6.93848215</td><td> 7.5400522 </td></tr>\n",
       "\t<tr><th scope=row>FTP</th><td> 3.87822521</td><td> 4.2435902 </td></tr>\n",
       "</tbody>\n",
       "</table>\n"
      ],
      "text/latex": [
       "\\begin{tabular}{r|ll}\n",
       "  & 2.5 \\% & 97.5 \\%\\\\\n",
       "\\hline\n",
       "\t(Intercept) & -4.80659184 & -4.4445911 \\\\\n",
       "\tBLK & -0.35307291 & -0.1794929 \\\\\n",
       "\tMP &  0.33276115 &  0.3523504 \\\\\n",
       "\tPF & -0.30576633 & -0.1999443 \\\\\n",
       "\tSTL &  0.07501824 &  0.2286144 \\\\\n",
       "\tTOV &  0.25178365 &  0.3658296 \\\\\n",
       "\tTRB &  0.14317816 &  0.1961005 \\\\\n",
       "\tTPP &  4.07508787 &  4.6213590 \\\\\n",
       "\tFGP &  6.93848215 &  7.5400522 \\\\\n",
       "\tFTP &  3.87822521 &  4.2435902 \\\\\n",
       "\\end{tabular}\n"
      ],
      "text/markdown": [
       "\n",
       "| <!--/--> | 2.5 % | 97.5 % | \n",
       "|---|---|---|---|---|---|---|---|---|---|\n",
       "| (Intercept) | -4.80659184 | -4.4445911  | \n",
       "| BLK | -0.35307291 | -0.1794929  | \n",
       "| MP |  0.33276115 |  0.3523504  | \n",
       "| PF | -0.30576633 | -0.1999443  | \n",
       "| STL |  0.07501824 |  0.2286144  | \n",
       "| TOV |  0.25178365 |  0.3658296  | \n",
       "| TRB |  0.14317816 |  0.1961005  | \n",
       "| TPP |  4.07508787 |  4.6213590  | \n",
       "| FGP |  6.93848215 |  7.5400522  | \n",
       "| FTP |  3.87822521 |  4.2435902  | \n",
       "\n",
       "\n"
      ],
      "text/plain": [
       "            2.5 %       97.5 %    \n",
       "(Intercept) -4.80659184 -4.4445911\n",
       "BLK         -0.35307291 -0.1794929\n",
       "MP           0.33276115  0.3523504\n",
       "PF          -0.30576633 -0.1999443\n",
       "STL          0.07501824  0.2286144\n",
       "TOV          0.25178365  0.3658296\n",
       "TRB          0.14317816  0.1961005\n",
       "TPP          4.07508787  4.6213590\n",
       "FGP          6.93848215  7.5400522\n",
       "FTP          3.87822521  4.2435902"
      ]
     },
     "metadata": {},
     "output_type": "display_data"
    }
   ],
   "source": [
    "confint(fit, level=0.95)"
   ]
  }
 ],
 "metadata": {
  "kernelspec": {
   "display_name": "R",
   "language": "R",
   "name": "ir"
  },
  "language_info": {
   "codemirror_mode": "r",
   "file_extension": ".r",
   "mimetype": "text/x-r-source",
   "name": "R",
   "pygments_lexer": "r",
   "version": "3.4.1"
  }
 },
 "nbformat": 4,
 "nbformat_minor": 2
}
